{
 "cells": [
  {
   "cell_type": "code",
   "execution_count": 2,
   "id": "e582c9d3",
   "metadata": {},
   "outputs": [],
   "source": [
    "#sklearn\n",
    "# https://scikit-learn.org/stable/tutorial/basic/tutorial.html"
   ]
  },
  {
   "cell_type": "code",
   "execution_count": 5,
   "id": "4d5b81e4",
   "metadata": {},
   "outputs": [],
   "source": [
    "from sklearn import datasets\n",
    "iris = datasets.load_iris()\n",
    "digits = datasets.load_digits()"
   ]
  },
  {
   "cell_type": "code",
   "execution_count": 11,
   "id": "2aa17b2c",
   "metadata": {},
   "outputs": [
    {
     "name": "stdout",
     "output_type": "stream",
     "text": [
      "prediction: [8]\n",
      "actual is: [8]\n"
     ]
    }
   ],
   "source": [
    "from sklearn import svm\n",
    "clf = svm.SVC(gamma=0.001, C=100.)\n",
    "clf.fit(digits.data[:-1], digits.target[:-1])\n",
    "print('prediction:',clf.predict(digits.data[-1:]))\n",
    "print('actual is:', digits.target[-1:])"
   ]
  },
  {
   "cell_type": "code",
   "execution_count": 13,
   "id": "11bf0879",
   "metadata": {},
   "outputs": [
    {
     "data": {
      "text/plain": [
       "['setosa', 'setosa', 'setosa']"
      ]
     },
     "execution_count": 13,
     "metadata": {},
     "output_type": "execute_result"
    }
   ],
   "source": [
    "from sklearn import datasets\n",
    "from sklearn.svm import SVC\n",
    "iris = datasets.load_iris()\n",
    "clf = SVC()\n",
    "clf.fit(iris.data, iris.target)\n",
    "\n",
    "list(clf.predict(iris.data[:3]))\n",
    "\n",
    "clf.fit(iris.data, iris.target_names[iris.target])\n",
    "\n",
    "list(clf.predict(iris.data[:3]))"
   ]
  },
  {
   "cell_type": "code",
   "execution_count": 14,
   "id": "05aba3bb",
   "metadata": {},
   "outputs": [
    {
     "data": {
      "text/plain": [
       "array([0, 0, 0, 0, 0])"
      ]
     },
     "execution_count": 14,
     "metadata": {},
     "output_type": "execute_result"
    }
   ],
   "source": [
    "# Hyper-parameters of an estimator can be updated after it has been constructed via the set_params() method. \n",
    "# Calling fit() more than once will overwrite what was learned by any previous fit().\n",
    "# kernel was changed below from linear to rbf\n",
    "\n",
    "import numpy as np\n",
    "from sklearn.datasets import load_iris\n",
    "from sklearn.svm import SVC\n",
    "X, y = load_iris(return_X_y=True)\n",
    "\n",
    "clf = SVC()\n",
    "clf.set_params(kernel='linear').fit(X, y)\n",
    "clf.predict(X[:5])\n",
    "\n",
    "clf.set_params(kernel='rbf').fit(X, y)\n",
    "clf.predict(X[:5])"
   ]
  },
  {
   "cell_type": "code",
   "execution_count": 22,
   "id": "7693c352",
   "metadata": {},
   "outputs": [
    {
     "data": {
      "text/plain": [
       "array([[1, 1, 0, 0, 0],\n",
       "       [1, 0, 1, 0, 0],\n",
       "       [0, 1, 0, 1, 0],\n",
       "       [1, 0, 1, 0, 0],\n",
       "       [1, 0, 1, 0, 0]])"
      ]
     },
     "execution_count": 22,
     "metadata": {},
     "output_type": "execute_result"
    }
   ],
   "source": [
    "# In the below case, the classifier is fit on a 1d array of multiclass labels and the predict() method therefore \n",
    "# provides corresponding multiclass predictions. It is also possible to fit upon a 2d array of binary label indicators:\n",
    "\n",
    "from sklearn.svm import SVC\n",
    "from sklearn.multiclass import OneVsRestClassifier\n",
    "from sklearn.preprocessing import LabelBinarizer\n",
    "\n",
    "X = [[1, 2], [2, 4], [4, 5], [3, 2], [3, 1]]\n",
    "y = [0, 0, 1, 1, 2]\n",
    "\n",
    "classif = OneVsRestClassifier(estimator=SVC(random_state=0))\n",
    "classif.fit(X, y).predict(X)\n",
    "\n",
    "y = LabelBinarizer().fit_transform(y)   # changes y to a one-hot format and returns a one-hot prediction\n",
    "y\n",
    "classif.fit(X, y).predict(X)\n",
    "\n",
    "from sklearn.preprocessing import MultiLabelBinarizer   #also changes y to one-hot, but for multiclass\n",
    "y = [[0, 1], [0, 2], [1, 3], [0, 2, 3], [2, 4]]\n",
    "y = MultiLabelBinarizer().fit_transform(y)\n",
    "y\n",
    "classif.fit(X, y).predict(X)\n"
   ]
  },
  {
   "cell_type": "code",
   "execution_count": 30,
   "id": "ae7dab18",
   "metadata": {},
   "outputs": [
    {
     "data": {
      "text/plain": [
       "64"
      ]
     },
     "execution_count": 30,
     "metadata": {},
     "output_type": "execute_result"
    }
   ],
   "source": [
    "digits = datasets.load_digits()\n",
    "digits.images.shape    #dataset is made up of 1797 data points comprised of 8x8 images\n",
    "\n",
    "import matplotlib.pyplot as plt\n",
    "# plt.imshow(digits.images[-1],\n",
    "#            cmap=plt.cm.gray_r)\n",
    "\n",
    "# To use this dataset with scikit-learn, we transform each 8x8 image into a feature vector of length 64\n",
    "data = digits.images.reshape(\n",
    "    (digits.images.shape[0], -1))\n",
    "len(data[0])    #data is transoformed from 8x8 to len=64"
   ]
  },
  {
   "cell_type": "code",
   "execution_count": 31,
   "id": "5731dcc0",
   "metadata": {},
   "outputs": [],
   "source": [
    "# Fitting data: the main API implemented by scikit-learn is that of the estimator. An estimator is any object\n",
    "# that learns from data; it may be a classification, regression or clustering algorithm or a transformer that \n",
    "# extracts/filters useful features from raw data.\n",
    "\n",
    "\n",
    "# Estimated parameters: When data is fitted with an estimator, parameters are estimated from the data at hand.\n",
    "# All the estimated parameters are attributes of the estimator object ending by an underscore:\n",
    "# estimator.estimated_param_\n",
    "\n",
    "# Read further: Curse of dimensionality (to understand the math)"
   ]
  },
  {
   "cell_type": "code",
   "execution_count": 76,
   "id": "68999e31",
   "metadata": {},
   "outputs": [
    {
     "name": "stdout",
     "output_type": "stream",
     "text": [
      "total columns: 10\n",
      "with 10 coef: [ -14.6944181  -245.02259156  613.91038683  310.47859338 -716.97966491\n",
      "  395.61349832  122.26412367  217.58392863  690.2289183    62.65347874]\n",
      "mse: 2812.16321767405\n",
      "model score: 0.4384848789167006\n"
     ]
    }
   ],
   "source": [
    "# Linear Regression for diabetes dataset\n",
    "diab_X, diab_y = datasets.load_diabetes(return_X_y=True)\n",
    "\n",
    "from sklearn.model_selection import train_test_split\n",
    "import numpy as np\n",
    "\n",
    "X_train, X_test, y_train, y_test = train_test_split(diab_X, diab_y, test_size=0.33, random_state=1)\n",
    "print('total columns:',len(X_train[0]))\n",
    "\n",
    "from sklearn import linear_model\n",
    "regr = linear_model.LinearRegression()\n",
    "regr.fit(X_train, y_train)\n",
    "print('with 10 coef:', regr.coef_)                                                    \n",
    "# print('mse:', \n",
    "print('mse:',np.mean((regr.predict(X_test) - y_test)**2))\n",
    "print('model score:', regr.score(X_test,y_test))\n",
    "    "
   ]
  },
  {
   "cell_type": "code",
   "execution_count": 77,
   "id": "0df44507",
   "metadata": {},
   "outputs": [
    {
     "data": {
      "text/plain": [
       "((296, 10), (296,))"
      ]
     },
     "execution_count": 77,
     "metadata": {},
     "output_type": "execute_result"
    }
   ],
   "source": [
    "X_train.shape, y_train.shape"
   ]
  },
  {
   "cell_type": "code",
   "execution_count": 64,
   "id": "7e313a86",
   "metadata": {},
   "outputs": [
    {
     "name": "stdout",
     "output_type": "stream",
     "text": [
      "[0.43845546472823627, 0.4383659682505855, 0.4380149862766832, 0.43714243188766766, 0.4374702770785275, 0.441746264019781]\n",
      "best alpha: 0.0001\n",
      "best alpha score: 0.5429329218970074\n",
      "coef: [ -14.61216233 -244.92011502  613.96586294  310.36044645 -710.00602343\n",
      "  390.3146455   118.89922763  216.32409848  687.70073189   62.67232661]\n"
     ]
    }
   ],
   "source": [
    "# use ridge regression A solution in high-dimensional statistical learning is to shrink the regression coefficients to zero\n",
    "regr = linear_model.Ridge(alpha=.1)\n",
    "alphas = np.logspace(-4, -1, 6)\n",
    "\n",
    "print([regr.set_params(alpha=alpha)\n",
    "           .fit(X_train, y_train)\n",
    "           .score(X_test, y_test)\n",
    "       for alpha in alphas])\n",
    "\n",
    "# Capturing in the fitted parameters noise that prevents the model to generalize to new data \n",
    "# is called overfitting. The bias introduced by the ridge regression is called a regularization.\n",
    "\n",
    "# To improve the conditioning of the problem (i.e. mitigating the The curse of dimensionality), \n",
    "# it would be interesting to select only the informative features and set non-informative ones,\n",
    "# like feature 2 to 0. Ridge regression will decrease their contribution, but not set them to \n",
    "# zero. Another penalization approach, called Lasso (least absolute shrinkage and selection \n",
    "# operator), can set some coefficients to zero. Such methods are called sparse method and \n",
    "# sparsity can be seen as an application of Occam’s razor: prefer simpler models.\n",
    "\n",
    "regr = linear_model.Lasso()\n",
    "scores = [regr.set_params(alpha=alpha)\n",
    "              .fit(X_train, y_train)\n",
    "              .score(X_test, y_test)\n",
    "          for alpha in alphas]\n",
    "\n",
    "best_alpha = alphas[scores.index(max(scores))]\n",
    "print('best alpha:', best_alpha)\n",
    "\n",
    "regr.alpha = best_alpha\n",
    "print('best alpha score:', regr.fit(X_train, y_train).score(X_train, y_train))\n",
    "print('coef:', regr.coef_)"
   ]
  },
  {
   "cell_type": "code",
   "execution_count": 86,
   "id": "bbb939b3",
   "metadata": {},
   "outputs": [
    {
     "name": "stdout",
     "output_type": "stream",
     "text": [
      "LR Score: 0.5429332332901122\n",
      "RR Score: [0.4384819574515103, 0.43818425470247124, 0.441746264019781, 0.13491062829351286, -0.014451015318764249, -0.016541577423331066]\n"
     ]
    }
   ],
   "source": [
    "# Linear Regression\n",
    "ln = linear_model.LinearRegression()\n",
    "print('LR Score:',ln.fit(X_train, y_train).score(X_train, y_train))\n",
    "\n",
    "# Ridge Regression\n",
    "rr = linear_model.Ridge()\n",
    "alphas = np.logspace(-5, 5, 6)\n",
    "\n",
    "print('RR Score:', [rr.set_params(alpha=alpha)\n",
    "           .fit(X_train, y_train)\n",
    "           .score(X_test, y_test)\n",
    "       for alpha in alphas])"
   ]
  },
  {
   "cell_type": "code",
   "execution_count": 101,
   "id": "dd9b4cce",
   "metadata": {
    "scrolled": true
   },
   "outputs": [
    {
     "data": {
      "text/plain": [
       "[<matplotlib.lines.Line2D at 0x257c737b670>]"
      ]
     },
     "execution_count": 101,
     "metadata": {},
     "output_type": "execute_result"
    },
    {
     "data": {
      "image/png": "[encoded data removed]",
      "text/plain": [
       "<Figure size 432x288 with 1 Axes>"
      ]
     },
     "metadata": {
      "needs_background": "light"
     },
     "output_type": "display_data"
    }
   ],
   "source": [
    "import matplotlib.pyplot as plt\n",
    "alphas = np.logspace(-10z, 5, 10)\n",
    "\n",
    "scr = [rr.set_params(alpha=alpha)\n",
    "           .fit(X_train, y_train)\n",
    "           .score(X_test, y_test)\n",
    "       for alpha in alphas]\n",
    "\n",
    "plt.plot(scr)"
   ]
  },
  {
   "cell_type": "code",
   "execution_count": 132,
   "id": "59dd459b",
   "metadata": {},
   "outputs": [
    {
     "data": {
      "text/plain": [
       "[<matplotlib.lines.Line2D at 0x257c768ac70>]"
      ]
     },
     "execution_count": 132,
     "metadata": {},
     "output_type": "execute_result"
    },
    {
     "data": {
      "image/png": "[encoded data removed]",
      "text/plain": [
       "<Figure size 432x288 with 1 Axes>"
      ]
     },
     "metadata": {
      "needs_background": "light"
     },
     "output_type": "display_data"
    }
   ],
   "source": [
    "# Logistic Regression\n",
    "# If you have several classes to predict, an option often used is to fit one-versus-all \n",
    "# classifiers and then use a voting heuristic for the final decision.\n",
    "\n",
    "# The C parameter controls the amount of regularization in the LogisticRegression object: a \n",
    "# large value for C results in less regularization. penalty=\"l2\" gives Shrinkage \n",
    "# (i.e. non-sparse coefficients), while penalty=\"l1\" gives Sparsity.\n",
    "\n",
    "iris_X = iris.data\n",
    "iris_y = iris.target\n",
    "\n",
    "log_score = []\n",
    "for i in range(1000,1100):\n",
    "    log = linear_model.LogisticRegression(max_iter=i, penalty='l2')\n",
    "    log_score.append(log.fit(iris_X, iris_y).score(iris_X,iris_y))\n",
    "\n",
    "plt.plot(log_score)"
   ]
  },
  {
   "cell_type": "code",
   "execution_count": 139,
   "id": "0ae8e845",
   "metadata": {},
   "outputs": [
    {
     "name": "stdout",
     "output_type": "stream",
     "text": [
      "knn: 0.961111\n",
      "logreg: 0.933333\n"
     ]
    },
    {
     "name": "stderr",
     "output_type": "stream",
     "text": [
      "C:\\Users\\Iya\\anaconda3\\lib\\site-packages\\sklearn\\linear_model\\_logistic.py:763: ConvergenceWarning: lbfgs failed to converge (status=1):\n",
      "STOP: TOTAL NO. of ITERATIONS REACHED LIMIT.\n",
      "\n",
      "Increase the number of iterations (max_iter) or scale the data as shown in:\n",
      "    https://scikit-learn.org/stable/modules/preprocessing.html\n",
      "Please also refer to the documentation for alternative solver options:\n",
      "    https://scikit-learn.org/stable/modules/linear_model.html#logistic-regression\n",
      "  n_iter_i = _check_optimize_result(\n"
     ]
    }
   ],
   "source": [
    "# Exercise: Try classifying the digits dataset with nearest neighbors and a linear model. \n",
    "# Leave out the last 10% and test prediction performance on these observations.\n",
    "\n",
    "from sklearn import datasets, neighbors, linear_model\n",
    "\n",
    "X_digits, y_digits = datasets.load_digits(return_X_y=True)\n",
    "X_digits = X_digits / X_digits.max()\n",
    "\n",
    "# get 90% of data\n",
    "n_samples = len(X_digits)\n",
    "\n",
    "X_train = X_digits[: int(0.9 * n_samples)]\n",
    "y_train = y_digits[: int(0.9 * n_samples)]\n",
    "X_test = X_digits[int(0.9 * n_samples):]\n",
    "y_test = y_digits[int(0.9 * n_samples):]\n",
    "\n",
    "# models\n",
    "knn = neighbors.KNeighborsClassifier()\n",
    "logistic = linear_model.LogisticRegression()\n",
    "\n",
    "# scores\n",
    "print('knn: %f' %knn.fit(X_train, y_train).score(X_test, y_test))\n",
    "print('logreg: %f' %logistic.fit(X_train, y_train).score(X_test, y_test))"
   ]
  },
  {
   "cell_type": "code",
   "execution_count": 177,
   "id": "9f8e8501",
   "metadata": {},
   "outputs": [
    {
     "name": "stdout",
     "output_type": "stream",
     "text": [
      "SVC linear:0.993333\n",
      "SVC poly:0.973333\n",
      "SVC rbf:0.973333\n"
     ]
    }
   ],
   "source": [
    "# SVMs\n",
    "# Support Vector Machines belong to the discriminant model family: they try to find a combination \n",
    "# of samples to build a plane maximizing the margin between the two classes. Regularization is set \n",
    "# by the C parameter: a small value for C means the margin is calculated using many or all of the \n",
    "# observations around the separating line (more regularization); a large value for C means the margin \n",
    "# is calculated on observations close to the separating line (less regularization).\n",
    "        \n",
    "from sklearn import svm\n",
    "from sklearn import datasets\n",
    "\n",
    "iris_X, iris_y = datasets.load_iris(return_X_y=True)\n",
    "\n",
    "svc = svm.SVC(kernel='linear')\n",
    "print('SVC linear:%f' %svc.fit(iris_X, iris_y).score(iris_X,iris_y))\n",
    "print('SVC poly:%f' %svc.set_params(kernel='poly', degree=3).fit(iris_X, iris_y).score(iris_X, iris_y))\n",
    "print('SVC rbf:%f' %svc.set_params(kernel='rbf').fit(iris_X, iris_y).score(iris_X, iris_y))\n",
    "        \n",
    "    \n",
    "    "
   ]
  },
  {
   "cell_type": "code",
   "execution_count": null,
   "id": "5826a681",
   "metadata": {},
   "outputs": [],
   "source": [
    "# Exercise: Try classifying classes 1 and 2 from the iris dataset with SVMs, with the 2 first \n",
    "# features. Leave out 10% of each class and test prediction performance on these observations.\n",
    "# Warning: the classes are ordered, do not leave out the last 10%, you would be testing on only one class.\n",
    "# Hint: You can use the decision_function method on a grid to get intuitions.\n",
    "\n",
    "import numpy as np\n",
    "import matplotlib.pyplot as plt\n",
    "from sklearn import datasets, svm\n",
    "\n",
    "iris = datasets.load_iris()\n",
    "X = iris.data\n",
    "y = iris.target\n",
    "\n",
    "X = X[y != 0, :2]\n",
    "y = y[y != 0]\n",
    "\n",
    "n_sample = len(X)\n",
    "\n",
    "np.random.seed(0)\n",
    "order = np.random.permutation(n_sample)\n",
    "X = X[order]\n",
    "y = y[order].astype(float)\n",
    "\n",
    "X_train = X[: int(0.9 * n_sample)]\n",
    "y_train = y[: int(0.9 * n_sample)]\n",
    "X_test = X[int(0.9 * n_sample) :]\n",
    "y_test = y[int(0.9 * n_sample) :]\n",
    "\n",
    "# fit the model\n",
    "for kernel in (\"linear\", \"rbf\", \"poly\"):\n",
    "    clf = svm.SVC(kernel=kernel, gamma=10)\n",
    "    clf.fit(X_train, y_train)\n",
    "\n",
    "    plt.figure()\n",
    "    plt.clf()\n",
    "    plt.scatter(\n",
    "        X[:, 0], X[:, 1], c=y, zorder=10, cmap=plt.cm.Paired, edgecolor=\"k\", s=20\n",
    "    )\n",
    "\n",
    "    # Circle out the test data\n",
    "    plt.scatter(\n",
    "        X_test[:, 0], X_test[:, 1], s=80, facecolors=\"none\", zorder=10, edgecolor=\"k\"\n",
    "    )\n",
    "\n",
    "    plt.axis(\"tight\")\n",
    "    x_min = X[:, 0].min()\n",
    "    x_max = X[:, 0].max()\n",
    "    y_min = X[:, 1].min()\n",
    "    y_max = X[:, 1].max()\n",
    "\n",
    "    XX, YY = np.mgrid[x_min:x_max:200j, y_min:y_max:200j]\n",
    "    Z = clf.decision_function(np.c_[XX.ravel(), YY.ravel()])\n",
    "\n",
    "    # Put the result into a color plot\n",
    "    Z = Z.reshape(XX.shape)\n",
    "    plt.pcolormesh(XX, YY, Z > 0, cmap=plt.cm.Paired)\n",
    "    plt.contour(\n",
    "        XX,\n",
    "        YY,\n",
    "        Z,\n",
    "        colors=[\"k\", \"k\", \"k\"],\n",
    "        linestyles=[\"--\", \"-\", \"--\"],\n",
    "        levels=[-0.5, 0, 0.5],\n",
    "    )\n",
    "\n",
    "    plt.title(kernel)\n",
    "plt.show()\n"
   ]
  },
  {
   "cell_type": "code",
   "execution_count": 343,
   "id": "36deea18",
   "metadata": {},
   "outputs": [
    {
     "name": "stdout",
     "output_type": "stream",
     "text": [
      "Coefficients:\n",
      "[-0.11190585 -0.04007949  0.22864503  0.60925205]\n"
     ]
    },
    {
     "name": "stderr",
     "output_type": "stream",
     "text": [
      "C:\\Users\\Iya\\anaconda3\\lib\\site-packages\\pandas\\core\\indexing.py:1732: SettingWithCopyWarning: \n",
      "A value is trying to be set on a copy of a slice from a DataFrame\n",
      "\n",
      "See the caveats in the documentation: https://pandas.pydata.org/pandas-docs/stable/user_guide/indexing.html#returning-a-view-versus-a-copy\n",
      "  self._setitem_single_block(indexer, value, name)\n"
     ]
    }
   ],
   "source": [
    "from sklearn import linear_model\n",
    "\n",
    "ln = linear_model.LinearRegression()\n",
    "ln.fit(iris_X, iris_y)\n",
    "\n",
    "my_coef = ln.coef_\n",
    "iris_df = pd.DataFrame(iris_X)\n",
    "iris_df['target'] = iris.target\n",
    "iris_df.rename(columns={0:'a',1:'b',2:'c',3:'d'}, inplace=True)\n",
    "\n",
    "iris_df['predict'] = iris_df.apply(lambda x:  int(x['a']*my_coef[0]) + (x['b']*my_coef[1]) + (x['c']*my_coef[2]) + (x['d']*my_coef[3]), axis=1)\n",
    "iris_df['predict2'] = 0\n",
    "iris_df['predict2'].loc[(iris_df['predict'] >= 1) & (iris_df['predict'] <=2)] = 2\n",
    "iris_df['predict2'].loc[(iris_df['predict'] >2)] = 3\n",
    "iris_df['predict2'].value_counts()\n",
    "print('Coefficients:')\n",
    "print(my_coef)"
   ]
  },
  {
   "cell_type": "code",
   "execution_count": 347,
   "id": "9656fc96",
   "metadata": {},
   "outputs": [
    {
     "name": "stdout",
     "output_type": "stream",
     "text": [
      "Train: [ 3  4  5  6  7  8  9 10] | Test: [0 1 2]\n",
      "Train: [ 0  1  2  5  6  7  8  9 10] | Test: [3 4]\n",
      "Train: [ 0  1  2  3  4  7  8  9 10] | Test: [5 6]\n",
      "Train: [ 0  1  2  3  4  5  6  9 10] | Test: [7 8]\n",
      "Train: [0 1 2 3 4 5 6 7 8] | Test: [ 9 10]\n"
     ]
    }
   ],
   "source": [
    "from sklearn.model_selection import KFold, cross_val_score\n",
    "X = ['a','a','a','b','b','c','c','c','c','c','c']\n",
    "k_fold = KFold(n_splits=5)\n",
    "\n",
    "for train_indices, test_indices in k_fold.split(X):\n",
    "    print('Train: %s | Test: %s' % (train_indices, test_indices))\n"
   ]
  },
  {
   "cell_type": "code",
   "execution_count": 367,
   "id": "4221229f",
   "metadata": {},
   "outputs": [
    {
     "name": "stdout",
     "output_type": "stream",
     "text": [
      "Train: [0 2 4 5 6 8] | Test: [1 3 7 9]\n",
      "Train: [1 3 5 6 7 8 9] | Test: [0 2 4]\n",
      "Train: [0 1 2 3 4 7 9] | Test: [5 6 8]\n"
     ]
    },
    {
     "data": {
      "text/plain": [
       "[0.989983305509182, 0.993322203672788, 0.9833055091819699]"
      ]
     },
     "execution_count": 367,
     "metadata": {},
     "output_type": "execute_result"
    }
   ],
   "source": [
    "x = [1,2,3,4,5,6,7,8,9,10]\n",
    "df = pd.DataFrame(x)\n",
    "df.columns=['x']\n",
    "\n",
    "k_fold = KFold(n_splits=3, shuffle=True)\n",
    "\n",
    "for my_train, my_test in k_fold.split(df):\n",
    "    print('Train: %s | Test: %s' % (my_train, my_test))\n",
    "    \n",
    "\n",
    "[svc.fit(X_digits[train], y_digits[train]).score(X_digits[test], y_digits[test]) for train, test in k_fold.split(X_digits)]\n"
   ]
  },
  {
   "cell_type": "code",
   "execution_count": 459,
   "id": "b9fad8da",
   "metadata": {},
   "outputs": [
    {
     "name": "stdout",
     "output_type": "stream",
     "text": [
      "kfold Average Cross Val Score: 0.9279937072437099\n",
      "ssplit Average Cross Val Score: 0.9279937072437099\n",
      "gkfold Average Cross Val Score: 0.9279937072437099\n",
      "gsplit Average Cross Val Score: 0.9279937072437099\n",
      "skfold Average Cross Val Score: 0.9279937072437099\n",
      "Test Score: 0.9137748689170466\n"
     ]
    }
   ],
   "source": [
    "# Cross validation\n",
    "from sklearn import datasets\n",
    "from sklearn import linear_model\n",
    "from sklearn.model_selection import cross_val_score, train_test_split, StratifiedKFold, ShuffleSplit, GroupKFold, GroupShuffleSplit\n",
    "\n",
    "iris_X, iris_Y = datasets.load_iris(return_X_y=True)\n",
    "df = pd.DataFrame(iris_X)\n",
    "df['target'] = pd.DataFrame(iris_y)\n",
    "df.rename(columns={0:'a',1:'b',2:'c',3:'d'}, inplace=True)\n",
    "\n",
    "df_X = df.loc[:,df.columns != 'target']\n",
    "df_y = df[['target']]\n",
    "\n",
    "X_train, X_test, y_train, y_test = train_test_split(df_X, df_y, test_size=0.33, random_state=1)\n",
    "\n",
    "ln = linear_model.LinearRegression()\n",
    "\n",
    "kfold = KFold(n_splits=5, shuffle=True, random_state=1)\n",
    "ssplit = ShuffleSplit(n_splits=5, random_state=1)\n",
    "skfold = StratifiedKFold(n_splits=5, shuffle=True, random_state=1)\n",
    "\n",
    "my_fold = ['kfold','ssplit','gkfold','gsplit','skfold']\n",
    "\n",
    "model = ln.fit(X_train, y_train)\n",
    "\n",
    "for i in range(len(my_fold)):\n",
    "    print(my_fold[i], 'Average Cross Val Score: %s' %cross_val_score(model, X_train, y_train, cv=skfold).mean())\n",
    "print('Test Score: %s' %model.score(X_test, y_test))"
   ]
  },
  {
   "cell_type": "code",
   "execution_count": 430,
   "id": "578101c7",
   "metadata": {},
   "outputs": [],
   "source": [
    "# test commit\n"
   ]
  },
  {
   "cell_type": "code",
   "execution_count": null,
   "id": "74481337",
   "metadata": {},
   "outputs": [],
   "source": []
  },
  {
   "cell_type": "code",
   "execution_count": null,
   "id": "bd77475b",
   "metadata": {},
   "outputs": [],
   "source": []
  },
  {
   "cell_type": "code",
   "execution_count": null,
   "id": "d489fe7e",
   "metadata": {},
   "outputs": [],
   "source": []
  },
  {
   "cell_type": "code",
   "execution_count": null,
   "id": "fe0c2687",
   "metadata": {},
   "outputs": [],
   "source": []
  },
  {
   "cell_type": "code",
   "execution_count": null,
   "id": "bedb1760",
   "metadata": {},
   "outputs": [],
   "source": []
  }
 ],
 "metadata": {
  "kernelspec": {
   "display_name": "Python 3 (ipykernel)",
   "language": "python",
   "name": "python3"
  },
  "language_info": {
   "codemirror_mode": {
    "name": "ipython",
    "version": 3
   },
   "file_extension": ".py",
   "mimetype": "text/x-python",
   "name": "python",
   "nbconvert_exporter": "python",
   "pygments_lexer": "ipython3",
   "version": "3.9.7"
  },
  "toc": {
   "base_numbering": 1,
   "nav_menu": {},
   "number_sections": true,
   "sideBar": true,
   "skip_h1_title": false,
   "title_cell": "Table of Contents",
   "title_sidebar": "Contents",
   "toc_cell": false,
   "toc_position": {},
   "toc_section_display": true,
   "toc_window_display": false
  }
 },
 "nbformat": 4,
 "nbformat_minor": 5
}
